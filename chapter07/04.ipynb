{
 "cells": [
  {
   "cell_type": "code",
   "execution_count": null,
   "metadata": {},
   "outputs": [],
   "source": [
    "라이브러리 포함"
   ]
  },
  {
   "cell_type": "code",
   "execution_count": 5,
   "metadata": {},
   "outputs": [],
   "source": [
    "import cv2\n",
    "import numpy as np\n",
    "from matplotlib import pylab as pylab\n",
    "\n",
    "from skimage.io import imread\n",
    "from skimage.color import rgb2gray\n",
    "from skimage.feature import corner_harris, corner_subpix, corner_peaks\n",
    "from skimage.transform import warp, AffineTransform\n",
    "\n",
    "from skimage.util import img_as_float\n",
    "from skimage.exposure import rescale_intensity\n",
    "from skimage.measure import ransac"
   ]
  },
  {
   "cell_type": "raw",
   "metadata": {},
   "source": [
    "Scikit-image를 사용한 유사-Haar 특징 서술자"
   ]
  },
  {
   "cell_type": "code",
   "execution_count": 7,
   "metadata": {},
   "outputs": [
    {
     "data": {
      "image/png": "[encoded data removed]",
      "text/plain": [
       "<Figure size 360x504 with 6 Axes>"
      ]
     },
     "metadata": {
      "needs_background": "light"
     },
     "output_type": "display_data"
    }
   ],
   "source": [
    "from skimage.feature import haar_like_feature_coord\n",
    "from skimage.feature import draw_haar_like_feature\n",
    "\n",
    "images = [np.zeros((2, 2)), np.zeros((2, 2)), \\\n",
    "          np.zeros((3, 3)), np.zeros((3, 3)), np.zeros((2, 2))]\n",
    "feature_types = ['type-2-x', 'type-2-y', 'type-3-x', 'type-3-y', 'type-4']\n",
    "\n",
    "fig, axes = pylab.subplots(3, 2, figsize=(5,7))\n",
    "for axes, img, feat_t in zip(np.ravel(axes), images, feature_types):\n",
    "    coordinates, _ = haar_like_feature_coord(img.shape[0], img.shape[1], feat_t)\n",
    "    haar_feature = draw_haar_like_feature(img, 0, 0, img.shape[0], img.shape[1], \\\n",
    "                                          coordinates, max_n_features=1, random_state=0, \\\n",
    "                                          color_positive_block=(1.0, 0.0, 0.0), \\\n",
    "                                          color_negative_block=(0.0, 0.0, 1.0), alpha=0.8)\n",
    "    axes.imshow(haar_feature), axes.set_title(feat_t), axes.set_axis_off()\n",
    "    \n",
    "fig.suptitle('Different Haar-like feature descriptors')\n",
    "pylab.axis('off'), pylab.tight_layout()\n",
    "pylab.show()"
   ]
  },
  {
   "cell_type": "code",
   "execution_count": null,
   "metadata": {},
   "outputs": [],
   "source": []
  },
  {
   "cell_type": "code",
   "execution_count": 19,
   "metadata": {},
   "outputs": [
    {
     "name": "stdout",
     "output_type": "stream",
     "text": [
      "1\n",
      "[[ 7 11 25 25]\n",
      " [33 12 22 22]]\n"
     ]
    },
    {
     "data": {
      "text/plain": [
       "True"
      ]
     },
     "execution_count": 19,
     "metadata": {},
     "output_type": "execute_result"
    }
   ],
   "source": [
    "# OpenCV 설치되어 있어야 함\n",
    "opencv_haar_path = 'C:/opencv/sources/data/haarcascades/'\n",
    "face_cascade = cv2.CascadeClassifier(opencv_haar_path + 'haarcascade_frontalface_default.xml')\n",
    "eye_cascade = cv2.CascadeClassifier(opencv_haar_path + 'haarcascade_eye.xml')\n",
    "\n",
    "# eye_cascade = \\ # 안경 착용 얼굴 검출\n",
    "# cv2.CascadeClassifier(opencv_haar_path + 'haarcascade_eye_tree_eyeglasses.xml')\n",
    "im = cv2.imread('../images/lena.jpg')\n",
    "\n",
    "gray = cv2.cvtColor(im, cv2.COLOR_BGR2GRAY)\n",
    "faces = face_cascade.detectMultiScale(gray, 1.2, 5) # scaleFactor=1.2, minNbr=5\n",
    "print(len(faces)) # 검출된 얼굴 개수 1\n",
    "\n",
    "for (x,y,w,h) in faces:\n",
    "    im1 = cv2.rectangle(img,(x,y),(x+w,y+h),(255,0,0),2)\n",
    "    roi_gray = gray[y:y+h, x:x+w]                                  \n",
    "    roi_color = img[y:y+h, x:x+w]\n",
    "    eyes = eye_cascade.detectMultiScale(roi_gray) # 검출 눈 좌표\n",
    "    print(eyes)\n",
    "    for (ex,ey,ew,eh) in eyes:\n",
    "        cv2.rectangle(roi_color,(ex,ey),(ex+ew,ey+eh), (0,255,0), 2)\n",
    "        \n",
    "cv2.imwrite('me_face_detected.jpg', img)"
   ]
  }
 ],
 "metadata": {
  "kernelspec": {
   "display_name": "Python 3",
   "language": "python",
   "name": "python3"
  },
  "language_info": {
   "codemirror_mode": {
    "name": "ipython",
    "version": 3
   },
   "file_extension": ".py",
   "mimetype": "text/x-python",
   "name": "python",
   "nbconvert_exporter": "python",
   "pygments_lexer": "ipython3",
   "version": "3.6.8"
  }
 },
 "nbformat": 4,
 "nbformat_minor": 2
}
