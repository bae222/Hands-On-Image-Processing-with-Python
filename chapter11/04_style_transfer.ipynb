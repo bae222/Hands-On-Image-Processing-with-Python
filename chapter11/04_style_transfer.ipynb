{
 "cells": [
  {
   "cell_type": "code",
   "execution_count": null,
   "metadata": {},
   "outputs": [],
   "source": [
    "라이브러리 임포트"
   ]
  },
  {
   "cell_type": "code",
   "execution_count": 2,
   "metadata": {},
   "outputs": [],
   "source": [
    "import os, cv2, numpy as np\n",
    "import imutils, time\n",
    "from urllib import request # 다운로드를 위한 임포트\n",
    "\n",
    "def download(url , model): # 모델 다운 및 저장 함수\n",
    "    print('download', model)\n",
    "    file = request.urlopen(url+model).read()\n",
    "    open(model, \"wb\").write(file)"
   ]
  },
  {
   "cell_type": "code",
   "execution_count": null,
   "metadata": {},
   "outputs": [],
   "source": [
    "Python과 OpenCV를 사용한 신경 스타일 전이"
   ]
  },
  {
   "cell_type": "code",
   "execution_count": 6,
   "metadata": {},
   "outputs": [
    {
     "name": "stdout",
     "output_type": "stream",
     "text": [
      "True\n",
      "loading style transfer model...\n"
     ]
    }
   ],
   "source": [
    "# 사전학습 모델 사이트 및 모델 이름\n",
    "path = 'http://cs.stanford.edu/people/jcjohns/fast-neural-style/models/eccv16/'\n",
    "model = 'starry_night.t7'\n",
    "# model = 'the_wave.t7' # 다른 사전학습 모델 다운 가능\n",
    "# model = 'la_muse.t7'\n",
    "# model = ' composition_vii.t7’\n",
    "\n",
    "# 사전학습 모델 없으면 다운로드\n",
    "print(os.path.exists(model))\n",
    "if os.path.exists(model) == False : download(path , model)\n",
    "print(\"loading style transfer model...\")\n",
    "net = cv2.dnn.readNetFromTorch(model)"
   ]
  },
  {
   "cell_type": "code",
   "execution_count": 7,
   "metadata": {},
   "outputs": [
    {
     "name": "stdout",
     "output_type": "stream",
     "text": [
      "(340, 228, 3)\n",
      "neural style transfer took 1.5870 seconds\n"
     ]
    },
    {
     "data": {
      "text/plain": [
       "True"
      ]
     },
     "execution_count": 7,
     "metadata": {},
     "output_type": "execute_result"
    }
   ],
   "source": [
    "image = cv2.imread('../images/monalisa.jpg') # 콘텐트 영상 읽기\n",
    "print(image.shape)\n",
    "image = imutils.resize(image, width=600) # 너비 600으로 크기 변경\n",
    "(h, w) = image.shape[:2]\n",
    "b, g, r, _ = cv2.mean(image) # 채널별 평균 값 계산\n",
    "\n",
    "# 영상에서 blob을 만들어 입력으로 설정한 다음 네트워크의 순방향 수행\n",
    "blob = cv2.dnn.blobFromImage(image, 1.0, (w, h), (b, g, r), swapRB=False, crop=False)\n",
    "net.setInput(blob)\n",
    "start = time.time() # 수행시간 측정\n",
    "output = net.forward() # 순방향 전파\n",
    "end = time.time()\n",
    "\n",
    "# 출력 텐서를 다시 형성하고 평균 뺄셈 복귀\n",
    "output = output.reshape((3, output.shape[2], output.shape[3]))\n",
    "output[0] += b\n",
    "output[1] += g\n",
    "output[2] += r\n",
    "\n",
    "# 형태 변경: 채널 × 높이 × 너비 → 세로 × 높이 × 채널\n",
    "output = output.transpose(1, 2, 0)\n",
    "print(\"neural style transfer took {:.4f} seconds\".format(end - start))\n",
    "# 결과 영상 표시 및 저장\n",
    "# cv2.imshow(\"output\", cv2.convertScaleAbs(output, 255))\n",
    "# cv2.waitKey()\n",
    "cv2.imwrite('output/styled.jpg', output) # 결과 영상 저장"
   ]
  }
 ],
 "metadata": {
  "kernelspec": {
   "display_name": "Python 3",
   "language": "python",
   "name": "python3"
  },
  "language_info": {
   "codemirror_mode": {
    "name": "ipython",
    "version": 3
   },
   "file_extension": ".py",
   "mimetype": "text/x-python",
   "name": "python",
   "nbconvert_exporter": "python",
   "pygments_lexer": "ipython3",
   "version": "3.6.8"
  }
 },
 "nbformat": 4,
 "nbformat_minor": 2
}
