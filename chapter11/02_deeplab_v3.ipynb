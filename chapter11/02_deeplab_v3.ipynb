{
 "cells": [
  {
   "cell_type": "code",
   "execution_count": null,
   "metadata": {},
   "outputs": [],
   "source": [
    "Deeplabv3+ 사용한 의미론적 분할"
   ]
  },
  {
   "cell_type": "code",
   "execution_count": 1,
   "metadata": {},
   "outputs": [
    {
     "name": "stderr",
     "output_type": "stream",
     "text": [
      "Using TensorFlow backend.\n"
     ]
    },
    {
     "name": "stdout",
     "output_type": "stream",
     "text": [
      "WARNING:tensorflow:From C:\\Users\\bae22\\Anaconda3\\lib\\site-packages\\tensorflow\\python\\framework\\op_def_library.py:263: colocate_with (from tensorflow.python.framework.ops) is deprecated and will be removed in a future version.\n",
      "Instructions for updating:\n",
      "Colocations handled automatically by placer.\n",
      "WARNING:tensorflow:From C:\\Users\\bae22\\Anaconda3\\lib\\site-packages\\keras\\backend\\tensorflow_backend.py:3445: calling dropout (from tensorflow.python.ops.nn_ops) with keep_prob is deprecated and will be removed in a future version.\n",
      "Instructions for updating:\n",
      "Please use `rate` instead of `keep_prob`. Rate should be set to `rate = 1 - keep_prob`.\n"
     ]
    }
   ],
   "source": [
    "import os\n",
    "os.chdir('keras-deeplab-v3-plus-master') # 작업 디렉토리 이동\n",
    "\n",
    "from matplotlib import pyplot as pylab\n",
    "import cv2 # resize() 함수 사용위해 임포트\n",
    "import numpy as np\n",
    "from model import Deeplabv3 # Deeplabv3 임포트\n",
    "\n",
    "deeplab_model = Deeplabv3()\n",
    "pathIn = '../input' # 입력 영상 경로\n",
    "pathOut = '../output' # 결과 영상 경로– 분리완료 영상 저장\n",
    "img = pylab.imread(pathIn + \"/cycle.jpg\")\n",
    "w, h, _ = img.shape\n",
    "ratio = 512./np.max([w,h]) # 너비, 높이 중 큰 값과의 비율\n",
    "\n",
    "resized = cv2.resize(img, (int(ratio*h), int(ratio*w)))\n",
    "resized = resized/127.5 - 1.\n",
    "pad_x = int(512 - resized.shape[0])\n",
    "resized2 = np.pad(resized,((0,pad_x), (0,0), (0,0)), mode='constant')\n",
    "res = deeplab_model.predict(np.expand_dims(resized2, 0))\n",
    "labels = np.argmax(res.squeeze(),-1)\n",
    "\n",
    "pylab.imshow(labels[:-pad_x], cmap='inferno')\n",
    "pylab.axis('off'), pylab.colorbar()\n",
    "pylab.savefig(pathOut + \"/segmented.jpg\", bbox_inches='tight', pad_inches=0)\n",
    "pylab.close()"
   ]
  }
 ],
 "metadata": {
  "kernelspec": {
   "display_name": "Python 3",
   "language": "python",
   "name": "python3"
  },
  "language_info": {
   "codemirror_mode": {
    "name": "ipython",
    "version": 3
   },
   "file_extension": ".py",
   "mimetype": "text/x-python",
   "name": "python",
   "nbconvert_exporter": "python",
   "pygments_lexer": "ipython3",
   "version": "3.6.8"
  }
 },
 "nbformat": 4,
 "nbformat_minor": 2
}
